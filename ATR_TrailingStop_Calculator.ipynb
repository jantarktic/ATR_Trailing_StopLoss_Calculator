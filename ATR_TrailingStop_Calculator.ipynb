{
 "cells": [
  {
   "cell_type": "code",
   "execution_count": 1,
   "id": "considerable-weather",
   "metadata": {},
   "outputs": [],
   "source": [
    "import datetime \n",
    "import matplotlib.pyplot as plt\n",
    "import pandas as pd\n",
    "import numpy as np\n",
    "import quandl"
   ]
  },
  {
   "cell_type": "markdown",
   "id": "worthy-traveler",
   "metadata": {},
   "source": [
    "Gather data from Quandl"
   ]
  },
  {
   "cell_type": "code",
   "execution_count": null,
   "id": "sized-session",
   "metadata": {},
   "outputs": [],
   "source": [
    "while True:\n",
    "    quandl.ApiConfig.api_key = input('Enter your Quandl API Key')\n",
    "    name = input('Enter Quandl Ticker Symbol')\n",
    "    buy_price = float(input(\"Entry Price\"))\n",
    "    \n",
    "    ls = input(\"Are you long or short?\")\n",
    "    mul = float(input(\"ATR multiple\"))\n",
    "    n = int(input(\"ATR Period\"))\n",
    "    date_str = input(\"Entry Date\")\n",
    "    format_str = '%Y%m%d' # The format\n",
    "    datetime_obj = datetime.datetime.strptime(date_str, format_str)\n",
    "    a = datetime_obj\n",
    "    \n",
    "    print(a)\n",
    "    end = datetime.datetime.now()\n",
    "    data = quandl.get(name, start_date = a, end_date = end)\n",
    "    data.rename(columns={'Settle': 'Close','Previous Day Open Interest':'OpenInterest'}, inplace=True)\n",
    "    data\n",
    "    data1 = data.empty  \n",
    "#type(data1)\n",
    "    if data1 == True:\n",
    "        print(\"please enter a valid date\")\n",
    "        continue\n",
    "    elif buy_price < data.loc[a]['Open'] or buy_price > data.loc[a]['High']:\n",
    "        print(\"Please enter a valid buy price\")\n",
    "        continue\n",
    "    elif data1 == False:\n",
    "        print(data)\n",
    "        break"
   ]
  },
  {
   "cell_type": "code",
   "execution_count": 3,
   "id": "upper-research",
   "metadata": {},
   "outputs": [],
   "source": [
    "#My inputs were as follows.\n",
    "#API Key: My api Key\n",
    "#Symbol: CHRIS/CME_ES1 (the Quandl symbol for the E-mini S&P 500 Futures contract)\n",
    "#Entry Price: 3030\n",
    "#Position: long\n",
    "#Multiple: 7\n",
    "#Period: 10\n",
    "#Entry Date: 202061 (1st of June, 2020)"
   ]
  },
  {
   "cell_type": "markdown",
   "id": "literary-fifth",
   "metadata": {},
   "source": [
    "Calculate ATR using Wilder's EMA"
   ]
  },
  {
   "cell_type": "code",
   "execution_count": 4,
   "id": "stupid-patio",
   "metadata": {},
   "outputs": [],
   "source": [
    "def wwma(values, n):\n",
    "\n",
    "    return values.ewm(alpha=1/n, min_periods=n, adjust=True).mean()\n",
    "\n",
    "def atr(data, n):\n",
    "    high = data['High']\n",
    "    low = data['Low']\n",
    "    close = data['Close']\n",
    "    data['tr0'] = abs(high - low)\n",
    "    data['tr1'] = abs(high - close.shift())\n",
    "    data['tr2'] = abs(low - close.shift())\n",
    "    tr = data[['tr0', 'tr1', 'tr2']].max(axis=1)\n",
    "    data['atr'] = wwma(tr, n)\n",
    "    data.drop(columns= ['tr0', 'tr1', 'tr2'], inplace=True)\n",
    "    return data"
   ]
  },
  {
   "cell_type": "markdown",
   "id": "protective-laptop",
   "metadata": {},
   "source": [
    "Add respective trailing stop mechanisms with number two representing the trailing stop that will be plotted."
   ]
  },
  {
   "cell_type": "code",
   "execution_count": 5,
   "id": "ranking-butler",
   "metadata": {},
   "outputs": [],
   "source": [
    "atr(data, n)\n",
    "data['atr_ts1'] = ''\n",
    "data['atr_ts2'] = ''\n",
    "df = data\n",
    "df['crossover'] = ''"
   ]
  },
  {
   "cell_type": "markdown",
   "id": "round-prague",
   "metadata": {},
   "source": [
    "Calculate for a long or short position."
   ]
  },
  {
   "cell_type": "code",
   "execution_count": 6,
   "id": "intended-johns",
   "metadata": {},
   "outputs": [],
   "source": [
    "if ls == 'long':\n",
    "    df['atr_ts1'] = df['Close'] - (mul * df['atr'])\n",
    "    df['atr_ts2'] = df['atr_ts1'].cummax()\n",
    "    df['crossover'] = df['atr_ts2'] > df['Close']\n",
    "elif ls == 'short':\n",
    "    df['atr_ts1'] = df['Close'] + (mul * df['atr'])\n",
    "    df['atr_ts2'] = df['atr_ts1'].cummin()\n",
    "    df['crossover'] = df['atr_ts2'] < df['Close']\n",
    "#df"
   ]
  },
  {
   "cell_type": "markdown",
   "id": "active-journalist",
   "metadata": {},
   "source": [
    "Find the first date where crossover is true and therefore finding which date and close price the position is stopped out."
   ]
  },
  {
   "cell_type": "code",
   "execution_count": 7,
   "id": "greater-walker",
   "metadata": {},
   "outputs": [
    {
     "data": {
      "text/html": [
       "<div>\n",
       "<style scoped>\n",
       "    .dataframe tbody tr th:only-of-type {\n",
       "        vertical-align: middle;\n",
       "    }\n",
       "\n",
       "    .dataframe tbody tr th {\n",
       "        vertical-align: top;\n",
       "    }\n",
       "\n",
       "    .dataframe thead th {\n",
       "        text-align: right;\n",
       "    }\n",
       "</style>\n",
       "<table border=\"1\" class=\"dataframe\">\n",
       "  <thead>\n",
       "    <tr style=\"text-align: right;\">\n",
       "      <th></th>\n",
       "      <th>Open</th>\n",
       "      <th>High</th>\n",
       "      <th>Low</th>\n",
       "      <th>Last</th>\n",
       "      <th>Change</th>\n",
       "      <th>Close</th>\n",
       "      <th>Volume</th>\n",
       "      <th>OpenInterest</th>\n",
       "      <th>atr</th>\n",
       "      <th>atr_ts1</th>\n",
       "      <th>atr_ts2</th>\n",
       "      <th>crossover</th>\n",
       "    </tr>\n",
       "    <tr>\n",
       "      <th>Date</th>\n",
       "      <th></th>\n",
       "      <th></th>\n",
       "      <th></th>\n",
       "      <th></th>\n",
       "      <th></th>\n",
       "      <th></th>\n",
       "      <th></th>\n",
       "      <th></th>\n",
       "      <th></th>\n",
       "      <th></th>\n",
       "      <th></th>\n",
       "      <th></th>\n",
       "    </tr>\n",
       "  </thead>\n",
       "  <tbody>\n",
       "    <tr>\n",
       "      <th>2020-09-21</th>\n",
       "      <td>3314.5</td>\n",
       "      <td>3326.25</td>\n",
       "      <td>3217.75</td>\n",
       "      <td>3273.75</td>\n",
       "      <td>-41.25</td>\n",
       "      <td>3275.0</td>\n",
       "      <td>2452727.0</td>\n",
       "      <td>2491348.0</td>\n",
       "      <td>72.438635</td>\n",
       "      <td>2767.929558</td>\n",
       "      <td>3297.460346</td>\n",
       "      <td>True</td>\n",
       "    </tr>\n",
       "  </tbody>\n",
       "</table>\n",
       "</div>"
      ],
      "text/plain": [
       "              Open     High      Low     Last  Change   Close     Volume  \\\n",
       "Date                                                                       \n",
       "2020-09-21  3314.5  3326.25  3217.75  3273.75  -41.25  3275.0  2452727.0   \n",
       "\n",
       "            OpenInterest        atr      atr_ts1      atr_ts2  crossover  \n",
       "Date                                                                      \n",
       "2020-09-21     2491348.0  72.438635  2767.929558  3297.460346       True  "
      ]
     },
     "execution_count": 7,
     "metadata": {},
     "output_type": "execute_result"
    }
   ],
   "source": [
    "#the required date is the 1st result\n",
    "df2 = df[df['crossover']==True]\n",
    "df2.head(1)"
   ]
  },
  {
   "cell_type": "markdown",
   "id": "sealed-reynolds",
   "metadata": {},
   "source": [
    "Slicing the dataframe in order to visualise the stop loss of the active position only. Enter the date found above."
   ]
  },
  {
   "cell_type": "code",
   "execution_count": 9,
   "id": "bearing-harvey",
   "metadata": {},
   "outputs": [
    {
     "name": "stdin",
     "output_type": "stream",
     "text": [
      "Date 20200921\n"
     ]
    },
    {
     "name": "stderr",
     "output_type": "stream",
     "text": [
      "/Users/jaydenclark/Desktop/anaconda3/lib/python3.8/site-packages/pandas/core/frame.py:4305: SettingWithCopyWarning: \n",
      "A value is trying to be set on a copy of a slice from a DataFrame\n",
      "\n",
      "See the caveats in the documentation: https://pandas.pydata.org/pandas-docs/stable/user_guide/indexing.html#returning-a-view-versus-a-copy\n",
      "  return super().drop(\n"
     ]
    },
    {
     "data": {
      "text/html": [
       "<div>\n",
       "<style scoped>\n",
       "    .dataframe tbody tr th:only-of-type {\n",
       "        vertical-align: middle;\n",
       "    }\n",
       "\n",
       "    .dataframe tbody tr th {\n",
       "        vertical-align: top;\n",
       "    }\n",
       "\n",
       "    .dataframe thead th {\n",
       "        text-align: right;\n",
       "    }\n",
       "</style>\n",
       "<table border=\"1\" class=\"dataframe\">\n",
       "  <thead>\n",
       "    <tr style=\"text-align: right;\">\n",
       "      <th></th>\n",
       "      <th>Close</th>\n",
       "      <th>atr_ts2</th>\n",
       "      <th>crossover</th>\n",
       "    </tr>\n",
       "    <tr>\n",
       "      <th>Date</th>\n",
       "      <th></th>\n",
       "      <th></th>\n",
       "      <th></th>\n",
       "    </tr>\n",
       "  </thead>\n",
       "  <tbody>\n",
       "    <tr>\n",
       "      <th>2020-06-01</th>\n",
       "      <td>3054.00</td>\n",
       "      <td>NaN</td>\n",
       "      <td>False</td>\n",
       "    </tr>\n",
       "    <tr>\n",
       "      <th>2020-06-02</th>\n",
       "      <td>3077.00</td>\n",
       "      <td>NaN</td>\n",
       "      <td>False</td>\n",
       "    </tr>\n",
       "    <tr>\n",
       "      <th>2020-06-03</th>\n",
       "      <td>3117.75</td>\n",
       "      <td>NaN</td>\n",
       "      <td>False</td>\n",
       "    </tr>\n",
       "    <tr>\n",
       "      <th>2020-06-04</th>\n",
       "      <td>3110.50</td>\n",
       "      <td>NaN</td>\n",
       "      <td>False</td>\n",
       "    </tr>\n",
       "    <tr>\n",
       "      <th>2020-06-05</th>\n",
       "      <td>3186.75</td>\n",
       "      <td>NaN</td>\n",
       "      <td>False</td>\n",
       "    </tr>\n",
       "    <tr>\n",
       "      <th>...</th>\n",
       "      <td>...</td>\n",
       "      <td>...</td>\n",
       "      <td>...</td>\n",
       "    </tr>\n",
       "    <tr>\n",
       "      <th>2020-09-15</th>\n",
       "      <td>3405.25</td>\n",
       "      <td>3297.460346</td>\n",
       "      <td>False</td>\n",
       "    </tr>\n",
       "    <tr>\n",
       "      <th>2020-09-16</th>\n",
       "      <td>3389.50</td>\n",
       "      <td>3297.460346</td>\n",
       "      <td>False</td>\n",
       "    </tr>\n",
       "    <tr>\n",
       "      <th>2020-09-17</th>\n",
       "      <td>3361.50</td>\n",
       "      <td>3297.460346</td>\n",
       "      <td>False</td>\n",
       "    </tr>\n",
       "    <tr>\n",
       "      <th>2020-09-18</th>\n",
       "      <td>3353.60</td>\n",
       "      <td>3297.460346</td>\n",
       "      <td>False</td>\n",
       "    </tr>\n",
       "    <tr>\n",
       "      <th>2020-09-21</th>\n",
       "      <td>3275.00</td>\n",
       "      <td>3297.460346</td>\n",
       "      <td>True</td>\n",
       "    </tr>\n",
       "  </tbody>\n",
       "</table>\n",
       "<p>79 rows × 3 columns</p>\n",
       "</div>"
      ],
      "text/plain": [
       "              Close      atr_ts2  crossover\n",
       "Date                                       \n",
       "2020-06-01  3054.00          NaN      False\n",
       "2020-06-02  3077.00          NaN      False\n",
       "2020-06-03  3117.75          NaN      False\n",
       "2020-06-04  3110.50          NaN      False\n",
       "2020-06-05  3186.75          NaN      False\n",
       "...             ...          ...        ...\n",
       "2020-09-15  3405.25  3297.460346      False\n",
       "2020-09-16  3389.50  3297.460346      False\n",
       "2020-09-17  3361.50  3297.460346      False\n",
       "2020-09-18  3353.60  3297.460346      False\n",
       "2020-09-21  3275.00  3297.460346       True\n",
       "\n",
       "[79 rows x 3 columns]"
      ]
     },
     "execution_count": 9,
     "metadata": {},
     "output_type": "execute_result"
    }
   ],
   "source": [
    "#length of trade\n",
    "lot = df.loc[:input('Date')]\n",
    "lot.drop(['Open', 'High', 'Low', 'Last', 'Change', 'Volume', 'OpenInterest', 'atr', 'atr_ts1'], axis=1, inplace=True)\n",
    "lot"
   ]
  },
  {
   "cell_type": "code",
   "execution_count": 10,
   "id": "solved-samoa",
   "metadata": {},
   "outputs": [
    {
     "data": {
      "text/plain": [
       "Text(0, 0.5, 'CHRIS/CME_ES1')"
      ]
     },
     "execution_count": 10,
     "metadata": {},
     "output_type": "execute_result"
    },
    {
     "data": {
      "image/png": "[encoded data removed]",
      "text/plain": [
       "<Figure size 1440x720 with 1 Axes>"
      ]
     },
     "metadata": {
      "needs_background": "light"
     },
     "output_type": "display_data"
    }
   ],
   "source": [
    "fig, ax = plt.subplots(figsize=(20,10), sharex = False, sharey = False)\n",
    "data.loc[data.index, 'Close'].plot(ax=ax)\n",
    "lot.loc[lot.index, 'atr_ts2'].plot(ax=ax)\n",
    "ax.set_title('Trailing Stop Loss Against Close Price')\n",
    "ax.set_ylabel(name)"
   ]
  },
  {
   "cell_type": "code",
   "execution_count": null,
   "id": "naughty-vertical",
   "metadata": {},
   "outputs": [],
   "source": []
  }
 ],
 "metadata": {
  "kernelspec": {
   "display_name": "Python 3",
   "language": "python",
   "name": "python3"
  },
  "language_info": {
   "codemirror_mode": {
    "name": "ipython",
    "version": 3
   },
   "file_extension": ".py",
   "mimetype": "text/x-python",
   "name": "python",
   "nbconvert_exporter": "python",
   "pygments_lexer": "ipython3",
   "version": "3.8.5"
  }
 },
 "nbformat": 4,
 "nbformat_minor": 5
}
